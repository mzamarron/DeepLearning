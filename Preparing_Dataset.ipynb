{
  "nbformat": 4,
  "nbformat_minor": 0,
  "metadata": {
    "colab": {
      "provenance": [],
      "machine_shape": "hm",
      "authorship_tag": "ABX9TyPUfOMiVh7ix9WBg+D+yN4s",
      "include_colab_link": true
    },
    "kernelspec": {
      "name": "python3",
      "display_name": "Python 3"
    },
    "language_info": {
      "name": "python"
    }
  },
  "cells": [
    {
      "cell_type": "markdown",
      "metadata": {
        "id": "view-in-github",
        "colab_type": "text"
      },
      "source": [
        "<a href=\"https://colab.research.google.com/github/mzamarron/DeepLearning/blob/main/Preparing_Dataset.ipynb\" target=\"_parent\"><img src=\"https://colab.research.google.com/assets/colab-badge.svg\" alt=\"Open In Colab\"/></a>"
      ]
    },
    {
      "cell_type": "markdown",
      "metadata": {
        "id": "ayqsyzIMlhc0"
      },
      "source": [
        "# Library import"
      ]
    },
    {
      "cell_type": "code",
      "metadata": {
        "id": "gkY07sLfhbgq"
      },
      "source": [
        "import os\n",
        "import cv2\n",
        "import h5py\n",
        "import glob \n",
        "import zipfile\n",
        "import shutil\n",
        "import numpy as np\n",
        "from tqdm import tqdm\n",
        "from pathlib import Path\n",
        "from sklearn.utils import shuffle"
      ],
      "execution_count": 1,
      "outputs": []
    },
    {
      "cell_type": "markdown",
      "metadata": {
        "id": "n9wOEzEeiLbH"
      },
      "source": [
        "# Data import"
      ]
    },
    {
      "cell_type": "code",
      "metadata": {
        "colab": {
          "base_uri": "https://localhost:8080/"
        },
        "id": "oO3Y0U-IgaYJ",
        "outputId": "ca0e62ed-3ff9-4b8d-cc1f-790f0858822a"
      },
      "source": [
        "from google.colab import drive\n",
        "drive.mount('/content/drive/')\n",
        "\n",
        "file_path = '/content/drive/MyDrive/Colab_Notebooks/DeepLearning/Datasets/'"
      ],
      "execution_count": 2,
      "outputs": [
        {
          "output_type": "stream",
          "name": "stdout",
          "text": [
            "Mounted at /content/drive/\n"
          ]
        }
      ]
    },
    {
      "cell_type": "markdown",
      "metadata": {
        "id": "A2FUqHh5jyL9"
      },
      "source": [
        "## Unzip dataset"
      ]
    },
    {
      "cell_type": "code",
      "metadata": {
        "id": "UkdWO115rRpe"
      },
      "source": [
        "local_zip = '/content/drive/MyDrive/Colab_Notebooks/DeepLearning/Datasets/Concrete.zip'\n",
        "\n",
        "zip_ref = zipfile.ZipFile(local_zip,'r')\n",
        "zip_ref.extractall('')\n",
        "zip_ref.close()"
      ],
      "execution_count": 3,
      "outputs": []
    },
    {
      "cell_type": "markdown",
      "metadata": {
        "id": "q8gzVVXCj124"
      },
      "source": [
        "# Label creation"
      ]
    },
    {
      "cell_type": "code",
      "source": [
        "from google.colab import drive\n",
        "drive.mount('/content/drive')"
      ],
      "metadata": {
        "colab": {
          "base_uri": "https://localhost:8080/"
        },
        "id": "8AfYKkYi6RUC",
        "outputId": "70329a2f-d683-4418-fa07-328310b1ec84"
      },
      "execution_count": 4,
      "outputs": [
        {
          "output_type": "stream",
          "name": "stdout",
          "text": [
            "Drive already mounted at /content/drive; to attempt to forcibly remount, call drive.mount(\"/content/drive\", force_remount=True).\n"
          ]
        }
      ]
    },
    {
      "cell_type": "code",
      "metadata": {
        "colab": {
          "base_uri": "https://localhost:8080/"
        },
        "id": "bbNHE6G1sUfA",
        "outputId": "3a9a74fc-5e61-4f79-936f-dd59bd03d5b4"
      },
      "source": [
        "categories = ['Positive', 'Negative']\n",
        "X = []\n",
        "Y = []\n",
        "\n",
        "for category in tqdm(categories):    \n",
        "  imgs_path = glob.glob(file_path + 'concrete_cracks/'+ category +'/*.jpg')\n",
        "  for ruta_img in imgs_path:\n",
        "    img = cv2.resize(cv2.imread(ruta_img), (150, 150))\n",
        "    X.append(img)\n",
        "    if category == 'Negative':\n",
        "      Y.append(0)\n",
        "    else:\n",
        "      Y.append(1)"
      ],
      "execution_count": 5,
      "outputs": [
        {
          "output_type": "stream",
          "name": "stderr",
          "text": [
            "100%|██████████| 2/2 [00:07<00:00,  3.80s/it]\n"
          ]
        }
      ]
    },
    {
      "cell_type": "code",
      "metadata": {
        "id": "LTOrnDvKttIv"
      },
      "source": [
        "# Changing data into an np array\n",
        "X = np.asarray(X).astype('float32')\n",
        "Y = np.expand_dims(np.asarray(Y).astype('float32'), axis = 1)"
      ],
      "execution_count": 6,
      "outputs": []
    },
    {
      "cell_type": "code",
      "metadata": {
        "id": "rAfri9vEkFF_",
        "colab": {
          "base_uri": "https://localhost:8080/"
        },
        "outputId": "d75e2e0c-e88c-4f5e-c506-70ad9382c702"
      },
      "source": [
        "print('Images dimension: ', X.shape)\n",
        "print('Labels: ', Y.shape)"
      ],
      "execution_count": 7,
      "outputs": [
        {
          "output_type": "stream",
          "name": "stdout",
          "text": [
            "Images dimension:  (200, 150, 150, 3)\n",
            "Labels:  (200, 1)\n"
          ]
        }
      ]
    },
    {
      "cell_type": "markdown",
      "metadata": {
        "id": "vXbdQpOQkNik"
      },
      "source": [
        "# Order shuffling"
      ]
    },
    {
      "cell_type": "code",
      "metadata": {
        "id": "H37NyRLSudul"
      },
      "source": [
        "# Shuffling data to mix order of positive and negative cracks\n",
        "X, Y = shuffle(X,Y)"
      ],
      "execution_count": 8,
      "outputs": []
    },
    {
      "cell_type": "markdown",
      "metadata": {
        "id": "0LALjsYuk0Jw"
      },
      "source": [
        "# Dataset creation"
      ]
    },
    {
      "cell_type": "code",
      "metadata": {
        "id": "onSeiw708OtB"
      },
      "source": [
        "hdf5_dir = Path(file_path)"
      ],
      "execution_count": 9,
      "outputs": []
    },
    {
      "cell_type": "code",
      "source": [
        "def store_many_hdf5(images, labels):\n",
        "    \"\"\" Stores an array of images to HDF5.\n",
        "        Parameters:\n",
        "        ---------------\n",
        "        images       images array, (N, 32, 32, 3) to be stored\n",
        "        labels       labels array, (N, 1) to be stored\n",
        "    \"\"\"\n",
        "    \n",
        "    # Create a new HDF5 file\n",
        "    with h5py.File(hdf5_dir / f\"concrete_dataset.h5\", 'w') as hf:\n",
        "      dataset = hf.create_dataset('images', data=images, shape=np.shape(images), compression='gzip', chunks=True)\n",
        "      meta_set = hf.create_dataset('meta', data=labels, shape=np.shape(labels), compression='gzip', chunks=True)"
      ],
      "metadata": {
        "id": "gyDftodaB2Dg"
      },
      "execution_count": 10,
      "outputs": []
    },
    {
      "cell_type": "code",
      "metadata": {
        "id": "6MZfL_Nt7a6d"
      },
      "source": [
        "store_many_hdf5(X, Y)"
      ],
      "execution_count": 11,
      "outputs": []
    },
    {
      "cell_type": "code",
      "source": [],
      "metadata": {
        "id": "oWx1u1mYHvvr"
      },
      "execution_count": 11,
      "outputs": []
    }
  ]
}